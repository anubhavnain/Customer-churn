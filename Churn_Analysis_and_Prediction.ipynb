{
 "cells": [
  {
   "cell_type": "code",
   "execution_count": 1,
   "metadata": {
    "colab": {},
    "colab_type": "code",
    "id": "68_lG4ToDqdF"
   },
   "outputs": [],
   "source": [
    "#importing libraries\n",
    "import pandas as pd\n",
    "import matplotlib.pyplot as plt\n",
    "%matplotlib inline\n",
    "import seaborn as sns\n",
    "import numpy as np\n"
   ]
  },
  {
   "cell_type": "code",
   "execution_count": 2,
   "metadata": {
    "colab": {},
    "colab_type": "code",
    "id": "ssymDHN1FUsB"
   },
   "outputs": [],
   "source": [
    "#importing file\n",
    "data=pd.read_excel(r\"C:\\Users\\Hp\\Desktop\\Final_Target.xlsx\")"
   ]
  },
  {
   "cell_type": "code",
   "execution_count": 3,
   "metadata": {
    "colab": {
     "base_uri": "https://localhost:8080/",
     "height": 330
    },
    "colab_type": "code",
    "id": "rXa8DYxuE4dU",
    "outputId": "97e978a3-4336-4d51-d502-b7e095567655"
   },
   "outputs": [
    {
     "data": {
      "text/html": [
       "<div>\n",
       "<style scoped>\n",
       "    .dataframe tbody tr th:only-of-type {\n",
       "        vertical-align: middle;\n",
       "    }\n",
       "\n",
       "    .dataframe tbody tr th {\n",
       "        vertical-align: top;\n",
       "    }\n",
       "\n",
       "    .dataframe thead th {\n",
       "        text-align: right;\n",
       "    }\n",
       "</style>\n",
       "<table border=\"1\" class=\"dataframe\">\n",
       "  <thead>\n",
       "    <tr style=\"text-align: right;\">\n",
       "      <th></th>\n",
       "      <th>Unnamed: 0</th>\n",
       "      <th>Customer ID</th>\n",
       "      <th>Order ID</th>\n",
       "      <th>State</th>\n",
       "      <th>PaymentStatus</th>\n",
       "      <th>Order Status</th>\n",
       "      <th>Payment Method</th>\n",
       "      <th>FinalAmt</th>\n",
       "      <th>OrderDate</th>\n",
       "      <th>Courier name</th>\n",
       "      <th>Timestamp</th>\n",
       "      <th>Mode</th>\n",
       "      <th>Complaints_Type</th>\n",
       "      <th>Priority</th>\n",
       "      <th>Resolution Date</th>\n",
       "      <th>Sex</th>\n",
       "      <th>Days_taken</th>\n",
       "      <th>Churn</th>\n",
       "    </tr>\n",
       "  </thead>\n",
       "  <tbody>\n",
       "    <tr>\n",
       "      <td>0</td>\n",
       "      <td>0</td>\n",
       "      <td>493</td>\n",
       "      <td>2095543</td>\n",
       "      <td>Mumbai(Maharashtra)</td>\n",
       "      <td>Paid</td>\n",
       "      <td>Delivered</td>\n",
       "      <td>dcc</td>\n",
       "      <td>1701.0</td>\n",
       "      <td>2019-09-20</td>\n",
       "      <td>Delhivery</td>\n",
       "      <td>2019-09-21 00:00:00</td>\n",
       "      <td>Email</td>\n",
       "      <td>Shipping Delay/Issue</td>\n",
       "      <td>High</td>\n",
       "      <td>2019-09-21</td>\n",
       "      <td>1</td>\n",
       "      <td>0</td>\n",
       "      <td>0</td>\n",
       "    </tr>\n",
       "    <tr>\n",
       "      <td>1</td>\n",
       "      <td>1</td>\n",
       "      <td>2157</td>\n",
       "      <td>1918551</td>\n",
       "      <td>Tamil Nadu</td>\n",
       "      <td>Refunded</td>\n",
       "      <td>Return Received</td>\n",
       "      <td>Wallet</td>\n",
       "      <td>837.0</td>\n",
       "      <td>2019-07-18</td>\n",
       "      <td>Delhivery</td>\n",
       "      <td>2019-07-30 00:00:00</td>\n",
       "      <td>Email</td>\n",
       "      <td>Ex/Return Request</td>\n",
       "      <td>Low</td>\n",
       "      <td>2019-08-01</td>\n",
       "      <td>1</td>\n",
       "      <td>2</td>\n",
       "      <td>0</td>\n",
       "    </tr>\n",
       "    <tr>\n",
       "      <td>2</td>\n",
       "      <td>2</td>\n",
       "      <td>2300</td>\n",
       "      <td>1809194</td>\n",
       "      <td>Maharashtra</td>\n",
       "      <td>Paid</td>\n",
       "      <td>Delivered</td>\n",
       "      <td>Wallet</td>\n",
       "      <td>994.0</td>\n",
       "      <td>2019-06-02</td>\n",
       "      <td>Fedex Economy</td>\n",
       "      <td>2019-06-26 00:00:00</td>\n",
       "      <td>Email</td>\n",
       "      <td>Defective</td>\n",
       "      <td>High</td>\n",
       "      <td>2019-06-27</td>\n",
       "      <td>1</td>\n",
       "      <td>1</td>\n",
       "      <td>0</td>\n",
       "    </tr>\n",
       "    <tr>\n",
       "      <td>3</td>\n",
       "      <td>3</td>\n",
       "      <td>2397</td>\n",
       "      <td>1939063</td>\n",
       "      <td>Maharashtra</td>\n",
       "      <td>Paid</td>\n",
       "      <td>Delivered</td>\n",
       "      <td>dcc</td>\n",
       "      <td>1860.0</td>\n",
       "      <td>2019-07-28</td>\n",
       "      <td>Fedex Economy</td>\n",
       "      <td>2019-07-31 00:00:00</td>\n",
       "      <td>Email</td>\n",
       "      <td>Shipping Delay/Issue</td>\n",
       "      <td>High</td>\n",
       "      <td>2019-07-31</td>\n",
       "      <td>1</td>\n",
       "      <td>0</td>\n",
       "      <td>0</td>\n",
       "    </tr>\n",
       "    <tr>\n",
       "      <td>4</td>\n",
       "      <td>4</td>\n",
       "      <td>2397</td>\n",
       "      <td>1939063</td>\n",
       "      <td>Maharashtra</td>\n",
       "      <td>Paid</td>\n",
       "      <td>Delivered</td>\n",
       "      <td>dcc</td>\n",
       "      <td>1860.0</td>\n",
       "      <td>2019-07-28</td>\n",
       "      <td>Fedex Economy</td>\n",
       "      <td>2019-07-31 11:23:13</td>\n",
       "      <td>Call</td>\n",
       "      <td>Queries</td>\n",
       "      <td>Low</td>\n",
       "      <td>2019-07-31</td>\n",
       "      <td>1</td>\n",
       "      <td>0</td>\n",
       "      <td>1</td>\n",
       "    </tr>\n",
       "  </tbody>\n",
       "</table>\n",
       "</div>"
      ],
      "text/plain": [
       "   Unnamed: 0  Customer ID  Order ID                State PaymentStatus  \\\n",
       "0           0          493   2095543  Mumbai(Maharashtra)          Paid   \n",
       "1           1         2157   1918551           Tamil Nadu      Refunded   \n",
       "2           2         2300   1809194          Maharashtra          Paid   \n",
       "3           3         2397   1939063          Maharashtra          Paid   \n",
       "4           4         2397   1939063          Maharashtra          Paid   \n",
       "\n",
       "      Order Status Payment Method  FinalAmt  OrderDate   Courier name  \\\n",
       "0        Delivered            dcc    1701.0 2019-09-20      Delhivery   \n",
       "1  Return Received         Wallet     837.0 2019-07-18      Delhivery   \n",
       "2        Delivered         Wallet     994.0 2019-06-02  Fedex Economy   \n",
       "3        Delivered            dcc    1860.0 2019-07-28  Fedex Economy   \n",
       "4        Delivered            dcc    1860.0 2019-07-28  Fedex Economy   \n",
       "\n",
       "            Timestamp   Mode       Complaints_Type Priority Resolution Date  \\\n",
       "0 2019-09-21 00:00:00  Email  Shipping Delay/Issue     High      2019-09-21   \n",
       "1 2019-07-30 00:00:00  Email     Ex/Return Request      Low      2019-08-01   \n",
       "2 2019-06-26 00:00:00  Email             Defective     High      2019-06-27   \n",
       "3 2019-07-31 00:00:00  Email  Shipping Delay/Issue     High      2019-07-31   \n",
       "4 2019-07-31 11:23:13   Call               Queries      Low      2019-07-31   \n",
       "\n",
       "   Sex  Days_taken  Churn  \n",
       "0    1           0      0  \n",
       "1    1           2      0  \n",
       "2    1           1      0  \n",
       "3    1           0      0  \n",
       "4    1           0      1  "
      ]
     },
     "execution_count": 3,
     "metadata": {},
     "output_type": "execute_result"
    }
   ],
   "source": [
    "data.head()"
   ]
  },
  {
   "cell_type": "code",
   "execution_count": 4,
   "metadata": {
    "colab": {
     "base_uri": "https://localhost:8080/",
     "height": 34
    },
    "colab_type": "code",
    "id": "z0DqhckKFc49",
    "outputId": "d791a36a-cadd-41bf-a8d9-7d46b672898c"
   },
   "outputs": [
    {
     "data": {
      "text/plain": [
       "0"
      ]
     },
     "execution_count": 4,
     "metadata": {},
     "output_type": "execute_result"
    }
   ],
   "source": [
    "data.duplicated().sum()"
   ]
  },
  {
   "cell_type": "code",
   "execution_count": 5,
   "metadata": {
    "colab": {
     "base_uri": "https://localhost:8080/",
     "height": 69
    },
    "colab_type": "code",
    "id": "O1FGDCRyFZbT",
    "outputId": "912d21cf-6e62-4a35-be7d-c59327482266"
   },
   "outputs": [
    {
     "data": {
      "text/plain": [
       "0    4522\n",
       "1    3273\n",
       "Name: Churn, dtype: int64"
      ]
     },
     "execution_count": 5,
     "metadata": {},
     "output_type": "execute_result"
    }
   ],
   "source": [
    "data['Churn'].value_counts()"
   ]
  },
  {
   "cell_type": "code",
   "execution_count": 6,
   "metadata": {
    "colab": {
     "base_uri": "https://localhost:8080/",
     "height": 265
    },
    "colab_type": "code",
    "id": "AExdTa_d2Z8g",
    "outputId": "79a23eaf-c133-43df-c8ee-fcfa335456cf"
   },
   "outputs": [
    {
     "data": {
      "image/png": "[encoded data removed]",
      "text/plain": [
       "<Figure size 432x288 with 1 Axes>"
      ]
     },
     "metadata": {
      "needs_background": "light"
     },
     "output_type": "display_data"
    }
   ],
   "source": [
    "plt.hist(data['Churn'].values)\n",
    "plt.show()"
   ]
  },
  {
   "cell_type": "code",
   "execution_count": 7,
   "metadata": {
    "colab": {
     "base_uri": "https://localhost:8080/",
     "height": 347
    },
    "colab_type": "code",
    "id": "E4IDNfNEIs-Q",
    "outputId": "89cece93-a1f8-4f0a-99fa-08f406d3bcc2"
   },
   "outputs": [
    {
     "data": {
      "text/plain": [
       "Unnamed: 0         0\n",
       "Customer ID        0\n",
       "Order ID           0\n",
       "State              0\n",
       "PaymentStatus      0\n",
       "Order Status       0\n",
       "Payment Method     0\n",
       "FinalAmt           0\n",
       "OrderDate          0\n",
       "Courier name       0\n",
       "Timestamp          0\n",
       "Mode               0\n",
       "Complaints_Type    0\n",
       "Priority           0\n",
       "Resolution Date    0\n",
       "Sex                0\n",
       "Days_taken         0\n",
       "Churn              0\n",
       "dtype: int64"
      ]
     },
     "execution_count": 7,
     "metadata": {},
     "output_type": "execute_result"
    }
   ],
   "source": [
    "data.isnull().sum()"
   ]
  },
  {
   "cell_type": "code",
   "execution_count": 8,
   "metadata": {
    "colab": {
     "base_uri": "https://localhost:8080/",
     "height": 330
    },
    "colab_type": "code",
    "id": "tvVJx71t25OU",
    "outputId": "63e28916-c169-427c-84d7-34629ee6b8ed"
   },
   "outputs": [
    {
     "data": {
      "text/html": [
       "<div>\n",
       "<style scoped>\n",
       "    .dataframe tbody tr th:only-of-type {\n",
       "        vertical-align: middle;\n",
       "    }\n",
       "\n",
       "    .dataframe tbody tr th {\n",
       "        vertical-align: top;\n",
       "    }\n",
       "\n",
       "    .dataframe thead th {\n",
       "        text-align: right;\n",
       "    }\n",
       "</style>\n",
       "<table border=\"1\" class=\"dataframe\">\n",
       "  <thead>\n",
       "    <tr style=\"text-align: right;\">\n",
       "      <th></th>\n",
       "      <th>Unnamed: 0</th>\n",
       "      <th>Customer ID</th>\n",
       "      <th>Order ID</th>\n",
       "      <th>State</th>\n",
       "      <th>PaymentStatus</th>\n",
       "      <th>Order Status</th>\n",
       "      <th>Payment Method</th>\n",
       "      <th>FinalAmt</th>\n",
       "      <th>OrderDate</th>\n",
       "      <th>Courier name</th>\n",
       "      <th>Timestamp</th>\n",
       "      <th>Mode</th>\n",
       "      <th>Complaints_Type</th>\n",
       "      <th>Priority</th>\n",
       "      <th>Resolution Date</th>\n",
       "      <th>Sex</th>\n",
       "      <th>Days_taken</th>\n",
       "      <th>Churn</th>\n",
       "    </tr>\n",
       "  </thead>\n",
       "  <tbody>\n",
       "    <tr>\n",
       "      <td>0</td>\n",
       "      <td>0</td>\n",
       "      <td>493</td>\n",
       "      <td>2095543</td>\n",
       "      <td>Mumbai(Maharashtra)</td>\n",
       "      <td>Paid</td>\n",
       "      <td>Delivered</td>\n",
       "      <td>dcc</td>\n",
       "      <td>1701.0</td>\n",
       "      <td>2019-09-20</td>\n",
       "      <td>Delhivery</td>\n",
       "      <td>2019-09-21 00:00:00</td>\n",
       "      <td>Email</td>\n",
       "      <td>Shipping Delay/Issue</td>\n",
       "      <td>High</td>\n",
       "      <td>2019-09-21</td>\n",
       "      <td>1</td>\n",
       "      <td>0</td>\n",
       "      <td>0</td>\n",
       "    </tr>\n",
       "    <tr>\n",
       "      <td>1</td>\n",
       "      <td>1</td>\n",
       "      <td>2157</td>\n",
       "      <td>1918551</td>\n",
       "      <td>Tamil Nadu</td>\n",
       "      <td>Refunded</td>\n",
       "      <td>Return Received</td>\n",
       "      <td>Wallet</td>\n",
       "      <td>837.0</td>\n",
       "      <td>2019-07-18</td>\n",
       "      <td>Delhivery</td>\n",
       "      <td>2019-07-30 00:00:00</td>\n",
       "      <td>Email</td>\n",
       "      <td>Ex/Return Request</td>\n",
       "      <td>Low</td>\n",
       "      <td>2019-08-01</td>\n",
       "      <td>1</td>\n",
       "      <td>2</td>\n",
       "      <td>0</td>\n",
       "    </tr>\n",
       "    <tr>\n",
       "      <td>2</td>\n",
       "      <td>2</td>\n",
       "      <td>2300</td>\n",
       "      <td>1809194</td>\n",
       "      <td>Maharashtra</td>\n",
       "      <td>Paid</td>\n",
       "      <td>Delivered</td>\n",
       "      <td>Wallet</td>\n",
       "      <td>994.0</td>\n",
       "      <td>2019-06-02</td>\n",
       "      <td>Fedex Economy</td>\n",
       "      <td>2019-06-26 00:00:00</td>\n",
       "      <td>Email</td>\n",
       "      <td>Defective</td>\n",
       "      <td>High</td>\n",
       "      <td>2019-06-27</td>\n",
       "      <td>1</td>\n",
       "      <td>1</td>\n",
       "      <td>0</td>\n",
       "    </tr>\n",
       "    <tr>\n",
       "      <td>3</td>\n",
       "      <td>3</td>\n",
       "      <td>2397</td>\n",
       "      <td>1939063</td>\n",
       "      <td>Maharashtra</td>\n",
       "      <td>Paid</td>\n",
       "      <td>Delivered</td>\n",
       "      <td>dcc</td>\n",
       "      <td>1860.0</td>\n",
       "      <td>2019-07-28</td>\n",
       "      <td>Fedex Economy</td>\n",
       "      <td>2019-07-31 00:00:00</td>\n",
       "      <td>Email</td>\n",
       "      <td>Shipping Delay/Issue</td>\n",
       "      <td>High</td>\n",
       "      <td>2019-07-31</td>\n",
       "      <td>1</td>\n",
       "      <td>0</td>\n",
       "      <td>0</td>\n",
       "    </tr>\n",
       "    <tr>\n",
       "      <td>4</td>\n",
       "      <td>4</td>\n",
       "      <td>2397</td>\n",
       "      <td>1939063</td>\n",
       "      <td>Maharashtra</td>\n",
       "      <td>Paid</td>\n",
       "      <td>Delivered</td>\n",
       "      <td>dcc</td>\n",
       "      <td>1860.0</td>\n",
       "      <td>2019-07-28</td>\n",
       "      <td>Fedex Economy</td>\n",
       "      <td>2019-07-31 11:23:13</td>\n",
       "      <td>Call</td>\n",
       "      <td>Queries</td>\n",
       "      <td>Low</td>\n",
       "      <td>2019-07-31</td>\n",
       "      <td>1</td>\n",
       "      <td>0</td>\n",
       "      <td>1</td>\n",
       "    </tr>\n",
       "  </tbody>\n",
       "</table>\n",
       "</div>"
      ],
      "text/plain": [
       "   Unnamed: 0  Customer ID  Order ID                State PaymentStatus  \\\n",
       "0           0          493   2095543  Mumbai(Maharashtra)          Paid   \n",
       "1           1         2157   1918551           Tamil Nadu      Refunded   \n",
       "2           2         2300   1809194          Maharashtra          Paid   \n",
       "3           3         2397   1939063          Maharashtra          Paid   \n",
       "4           4         2397   1939063          Maharashtra          Paid   \n",
       "\n",
       "      Order Status Payment Method  FinalAmt  OrderDate   Courier name  \\\n",
       "0        Delivered            dcc    1701.0 2019-09-20      Delhivery   \n",
       "1  Return Received         Wallet     837.0 2019-07-18      Delhivery   \n",
       "2        Delivered         Wallet     994.0 2019-06-02  Fedex Economy   \n",
       "3        Delivered            dcc    1860.0 2019-07-28  Fedex Economy   \n",
       "4        Delivered            dcc    1860.0 2019-07-28  Fedex Economy   \n",
       "\n",
       "            Timestamp   Mode       Complaints_Type Priority Resolution Date  \\\n",
       "0 2019-09-21 00:00:00  Email  Shipping Delay/Issue     High      2019-09-21   \n",
       "1 2019-07-30 00:00:00  Email     Ex/Return Request      Low      2019-08-01   \n",
       "2 2019-06-26 00:00:00  Email             Defective     High      2019-06-27   \n",
       "3 2019-07-31 00:00:00  Email  Shipping Delay/Issue     High      2019-07-31   \n",
       "4 2019-07-31 11:23:13   Call               Queries      Low      2019-07-31   \n",
       "\n",
       "   Sex  Days_taken  Churn  \n",
       "0    1           0      0  \n",
       "1    1           2      0  \n",
       "2    1           1      0  \n",
       "3    1           0      0  \n",
       "4    1           0      1  "
      ]
     },
     "execution_count": 8,
     "metadata": {},
     "output_type": "execute_result"
    }
   ],
   "source": [
    "data.head()"
   ]
  },
  {
   "cell_type": "code",
   "execution_count": 9,
   "metadata": {
    "colab": {},
    "colab_type": "code",
    "id": "aM0ASW9R31M4"
   },
   "outputs": [],
   "source": [
    "#label encoding the categorical data\n",
    "from sklearn.preprocessing import LabelEncoder\n",
    "label_encoder=LabelEncoder()\n",
    "data['Mode']=label_encoder.fit_transform(data['Mode'])\n",
    "data['Complaints_Type']=label_encoder.fit_transform(data['Complaints_Type'])\n",
    "data['Order Status']=label_encoder.fit_transform(data['Order Status'])\n",
    "data['PaymentStatus']=label_encoder.fit_transform(data['PaymentStatus'])\n",
    "data['Payment Method']=label_encoder.fit_transform(data['Payment Method'])\n",
    "data['Priority']=label_encoder.fit_transform(data['Priority'])\n",
    "data['Courier name']=label_encoder.fit_transform(data['Courier name'])\n",
    "data['State']=label_encoder.fit_transform(data['State'])"
   ]
  },
  {
   "cell_type": "code",
   "execution_count": 10,
   "metadata": {
    "colab": {
     "base_uri": "https://localhost:8080/",
     "height": 330
    },
    "colab_type": "code",
    "id": "LUvkl0r84f9K",
    "outputId": "54a6d0c5-ebf7-42d0-de9c-db76a05b1700"
   },
   "outputs": [
    {
     "data": {
      "text/html": [
       "<div>\n",
       "<style scoped>\n",
       "    .dataframe tbody tr th:only-of-type {\n",
       "        vertical-align: middle;\n",
       "    }\n",
       "\n",
       "    .dataframe tbody tr th {\n",
       "        vertical-align: top;\n",
       "    }\n",
       "\n",
       "    .dataframe thead th {\n",
       "        text-align: right;\n",
       "    }\n",
       "</style>\n",
       "<table border=\"1\" class=\"dataframe\">\n",
       "  <thead>\n",
       "    <tr style=\"text-align: right;\">\n",
       "      <th></th>\n",
       "      <th>Unnamed: 0</th>\n",
       "      <th>Customer ID</th>\n",
       "      <th>Order ID</th>\n",
       "      <th>State</th>\n",
       "      <th>PaymentStatus</th>\n",
       "      <th>Order Status</th>\n",
       "      <th>Payment Method</th>\n",
       "      <th>FinalAmt</th>\n",
       "      <th>OrderDate</th>\n",
       "      <th>Courier name</th>\n",
       "      <th>Timestamp</th>\n",
       "      <th>Mode</th>\n",
       "      <th>Complaints_Type</th>\n",
       "      <th>Priority</th>\n",
       "      <th>Resolution Date</th>\n",
       "      <th>Sex</th>\n",
       "      <th>Days_taken</th>\n",
       "      <th>Churn</th>\n",
       "    </tr>\n",
       "  </thead>\n",
       "  <tbody>\n",
       "    <tr>\n",
       "      <td>0</td>\n",
       "      <td>0</td>\n",
       "      <td>493</td>\n",
       "      <td>2095543</td>\n",
       "      <td>22</td>\n",
       "      <td>1</td>\n",
       "      <td>1</td>\n",
       "      <td>9</td>\n",
       "      <td>1701.0</td>\n",
       "      <td>2019-09-20</td>\n",
       "      <td>0</td>\n",
       "      <td>2019-09-21 00:00:00</td>\n",
       "      <td>1</td>\n",
       "      <td>9</td>\n",
       "      <td>0</td>\n",
       "      <td>2019-09-21</td>\n",
       "      <td>1</td>\n",
       "      <td>0</td>\n",
       "      <td>0</td>\n",
       "    </tr>\n",
       "    <tr>\n",
       "      <td>1</td>\n",
       "      <td>1</td>\n",
       "      <td>2157</td>\n",
       "      <td>1918551</td>\n",
       "      <td>29</td>\n",
       "      <td>3</td>\n",
       "      <td>5</td>\n",
       "      <td>8</td>\n",
       "      <td>837.0</td>\n",
       "      <td>2019-07-18</td>\n",
       "      <td>0</td>\n",
       "      <td>2019-07-30 00:00:00</td>\n",
       "      <td>1</td>\n",
       "      <td>4</td>\n",
       "      <td>1</td>\n",
       "      <td>2019-08-01</td>\n",
       "      <td>1</td>\n",
       "      <td>2</td>\n",
       "      <td>0</td>\n",
       "    </tr>\n",
       "    <tr>\n",
       "      <td>2</td>\n",
       "      <td>2</td>\n",
       "      <td>2300</td>\n",
       "      <td>1809194</td>\n",
       "      <td>18</td>\n",
       "      <td>1</td>\n",
       "      <td>1</td>\n",
       "      <td>8</td>\n",
       "      <td>994.0</td>\n",
       "      <td>2019-06-02</td>\n",
       "      <td>1</td>\n",
       "      <td>2019-06-26 00:00:00</td>\n",
       "      <td>1</td>\n",
       "      <td>3</td>\n",
       "      <td>0</td>\n",
       "      <td>2019-06-27</td>\n",
       "      <td>1</td>\n",
       "      <td>1</td>\n",
       "      <td>0</td>\n",
       "    </tr>\n",
       "    <tr>\n",
       "      <td>3</td>\n",
       "      <td>3</td>\n",
       "      <td>2397</td>\n",
       "      <td>1939063</td>\n",
       "      <td>18</td>\n",
       "      <td>1</td>\n",
       "      <td>1</td>\n",
       "      <td>9</td>\n",
       "      <td>1860.0</td>\n",
       "      <td>2019-07-28</td>\n",
       "      <td>1</td>\n",
       "      <td>2019-07-31 00:00:00</td>\n",
       "      <td>1</td>\n",
       "      <td>9</td>\n",
       "      <td>0</td>\n",
       "      <td>2019-07-31</td>\n",
       "      <td>1</td>\n",
       "      <td>0</td>\n",
       "      <td>0</td>\n",
       "    </tr>\n",
       "    <tr>\n",
       "      <td>4</td>\n",
       "      <td>4</td>\n",
       "      <td>2397</td>\n",
       "      <td>1939063</td>\n",
       "      <td>18</td>\n",
       "      <td>1</td>\n",
       "      <td>1</td>\n",
       "      <td>9</td>\n",
       "      <td>1860.0</td>\n",
       "      <td>2019-07-28</td>\n",
       "      <td>1</td>\n",
       "      <td>2019-07-31 11:23:13</td>\n",
       "      <td>0</td>\n",
       "      <td>6</td>\n",
       "      <td>1</td>\n",
       "      <td>2019-07-31</td>\n",
       "      <td>1</td>\n",
       "      <td>0</td>\n",
       "      <td>1</td>\n",
       "    </tr>\n",
       "  </tbody>\n",
       "</table>\n",
       "</div>"
      ],
      "text/plain": [
       "   Unnamed: 0  Customer ID  Order ID  State  PaymentStatus  Order Status  \\\n",
       "0           0          493   2095543     22              1             1   \n",
       "1           1         2157   1918551     29              3             5   \n",
       "2           2         2300   1809194     18              1             1   \n",
       "3           3         2397   1939063     18              1             1   \n",
       "4           4         2397   1939063     18              1             1   \n",
       "\n",
       "   Payment Method  FinalAmt  OrderDate  Courier name           Timestamp  \\\n",
       "0               9    1701.0 2019-09-20             0 2019-09-21 00:00:00   \n",
       "1               8     837.0 2019-07-18             0 2019-07-30 00:00:00   \n",
       "2               8     994.0 2019-06-02             1 2019-06-26 00:00:00   \n",
       "3               9    1860.0 2019-07-28             1 2019-07-31 00:00:00   \n",
       "4               9    1860.0 2019-07-28             1 2019-07-31 11:23:13   \n",
       "\n",
       "   Mode  Complaints_Type  Priority Resolution Date  Sex  Days_taken  Churn  \n",
       "0     1                9         0      2019-09-21    1           0      0  \n",
       "1     1                4         1      2019-08-01    1           2      0  \n",
       "2     1                3         0      2019-06-27    1           1      0  \n",
       "3     1                9         0      2019-07-31    1           0      0  \n",
       "4     0                6         1      2019-07-31    1           0      1  "
      ]
     },
     "execution_count": 10,
     "metadata": {},
     "output_type": "execute_result"
    }
   ],
   "source": [
    "data.head()"
   ]
  },
  {
   "cell_type": "code",
   "execution_count": 11,
   "metadata": {
    "colab": {},
    "colab_type": "code",
    "id": "Y4wdDsij5C-X"
   },
   "outputs": [],
   "source": [
    "#initializing variables\n",
    "X = data.drop(['State','OrderDate','Timestamp','Resolution Date','Churn'], axis=1)\n",
    "y = data['Churn']\n"
   ]
  },
  {
   "cell_type": "code",
   "execution_count": 12,
   "metadata": {
    "colab": {},
    "colab_type": "code",
    "id": "sUB9sAqd66kH"
   },
   "outputs": [],
   "source": [
    "#splitting into train and test data\n",
    "from sklearn.model_selection import train_test_split\n",
    "X_train, X_test, y_train, y_test =train_test_split(X,y, test_size = 0.25, random_state = 0)"
   ]
  },
  {
   "cell_type": "code",
   "execution_count": 13,
   "metadata": {
    "colab": {},
    "colab_type": "code",
    "id": "nbgFmfxi7ZVM"
   },
   "outputs": [],
   "source": [
    "#standard scaling\n",
    "from sklearn.preprocessing import StandardScaler\n",
    "sc=StandardScaler()\n",
    "X_train=sc.fit_transform(X_train)\n",
    "X_test=sc.fit_transform(X_test)"
   ]
  },
  {
   "cell_type": "code",
   "execution_count": 14,
   "metadata": {
    "colab": {
     "base_uri": "https://localhost:8080/",
     "height": 243
    },
    "colab_type": "code",
    "id": "OovuXUfG7eBk",
    "outputId": "336499e0-c1a9-45c5-f99a-ffc8f8713619"
   },
   "outputs": [
    {
     "data": {
      "text/plain": [
       "array([[ 1.24643723e+00,  8.55109008e-01,  1.56164578e-01, ...,\n",
       "         6.96067456e-01,  3.34725392e-01, -2.58178423e-01],\n",
       "       [ 1.08805173e+00,  8.31668168e-01, -1.25098298e-01, ...,\n",
       "        -1.43664237e+00,  3.34725392e-01, -2.58178423e-01],\n",
       "       [ 1.19590348e-01,  6.68868318e-01, -4.70415882e-01, ...,\n",
       "        -1.43664237e+00,  3.34725392e-01,  2.81848141e-04],\n",
       "       ...,\n",
       "       [-9.99419754e-01, -9.45530175e-01, -4.16635321e-01, ...,\n",
       "        -1.43664237e+00,  3.34725392e-01, -2.58178423e-01],\n",
       "       [-5.89019809e-01, -3.09700197e-01, -1.05746744e+00, ...,\n",
       "        -1.43664237e+00, -2.98752358e+00,  1.61819518e-01],\n",
       "       [-5.33337404e-01, -2.45178307e-01,  1.49414875e+00, ...,\n",
       "         6.96067456e-01,  3.34725392e-01, -2.58178423e-01]])"
      ]
     },
     "execution_count": 14,
     "metadata": {},
     "output_type": "execute_result"
    }
   ],
   "source": [
    "X_train"
   ]
  },
  {
   "cell_type": "code",
   "execution_count": 15,
   "metadata": {
    "colab": {
     "base_uri": "https://localhost:8080/",
     "height": 243
    },
    "colab_type": "code",
    "id": "mwdD6qHCTFkY",
    "outputId": "be73c837-998d-469d-cc57-023ffb5c2eee"
   },
   "outputs": [
    {
     "data": {
      "text/plain": [
       "array([[ 1.56653511,  0.95045613,  1.9168482 , ..., -1.43014422,\n",
       "         0.34750404, -0.26464279],\n",
       "       [-0.89639117, -0.74887614, -0.09011997, ..., -1.43014422,\n",
       "         0.34750404, -0.26464279],\n",
       "       [-0.47220008, -0.13256024,  1.34009616, ...,  0.69923018,\n",
       "         0.34750404,  1.59528438],\n",
       "       ...,\n",
       "       [-0.53192226, -0.23069343, -0.25633994, ..., -1.43014422,\n",
       "         0.34750404, -0.26464279],\n",
       "       [-0.13922848,  0.36693055, -0.57718235, ...,  0.69923018,\n",
       "         0.34750404, -0.26464279],\n",
       "       [ 0.97872161,  0.80328079, -0.19410991, ...,  0.69923018,\n",
       "         0.34750404, -0.26464279]])"
      ]
     },
     "execution_count": 15,
     "metadata": {},
     "output_type": "execute_result"
    }
   ],
   "source": [
    "X_test"
   ]
  },
  {
   "cell_type": "code",
   "execution_count": 0,
   "metadata": {
    "colab": {},
    "colab_type": "code",
    "id": "JcgCVTqHTr6O"
   },
   "outputs": [],
   "source": [
    "import keras\n",
    "from keras.models import Sequential\n",
    "from keras.layers import Dense\n"
   ]
  },
  {
   "cell_type": "code",
   "execution_count": 0,
   "metadata": {
    "colab": {
     "base_uri": "https://localhost:8080/",
     "height": 141
    },
    "colab_type": "code",
    "id": "9VNj3KSiTxRx",
    "outputId": "f4e79a47-f2c6-433f-ed7f-ab846ac5a706"
   },
   "outputs": [
    {
     "name": "stderr",
     "output_type": "stream",
     "text": [
      "/usr/local/lib/python3.6/dist-packages/ipykernel_launcher.py:2: UserWarning: Update your `Dense` call to the Keras 2 API: `Dense(activation=\"relu\", input_dim=13, units=6, kernel_initializer=\"uniform\")`\n",
      "  \n",
      "/usr/local/lib/python3.6/dist-packages/ipykernel_launcher.py:5: UserWarning: Update your `Dense` call to the Keras 2 API: `Dense(activation=\"relu\", units=6, kernel_initializer=\"uniform\")`\n",
      "  \"\"\"\n",
      "/usr/local/lib/python3.6/dist-packages/ipykernel_launcher.py:8: UserWarning: Update your `Dense` call to the Keras 2 API: `Dense(activation=\"sigmoid\", units=1, kernel_initializer=\"uniform\")`\n",
      "  \n"
     ]
    }
   ],
   "source": [
    "classifier = Sequential()\n",
    "classifier.add(Dense(output_dim=6, init='uniform', activation = 'relu' , input_dim=13))\n",
    "\n",
    "\n",
    "classifier.add(Dense(output_dim=6, init='uniform', activation = 'relu'))\n",
    "\n",
    "\n",
    "classifier.add(Dense(output_dim=1, init='uniform', activation = 'sigmoid'))"
   ]
  },
  {
   "cell_type": "code",
   "execution_count": 0,
   "metadata": {
    "colab": {},
    "colab_type": "code",
    "id": "kJ159fJ7UAKB"
   },
   "outputs": [],
   "source": [
    "classifier.compile(optimizer='Adam',loss='binary_crossentropy',metrics=['accuracy'])"
   ]
  },
  {
   "cell_type": "code",
   "execution_count": 0,
   "metadata": {
    "colab": {
     "base_uri": "https://localhost:8080/",
     "height": 593
    },
    "colab_type": "code",
    "id": "jgYQkGk6UGvT",
    "outputId": "b93fd255-8989-4e49-8513-3243222879d7"
   },
   "outputs": [
    {
     "name": "stderr",
     "output_type": "stream",
     "text": [
      "/usr/local/lib/python3.6/dist-packages/ipykernel_launcher.py:3: UserWarning: The `nb_epoch` argument in `fit` has been renamed `epochs`.\n",
      "  This is separate from the ipykernel package so we can avoid doing imports until\n"
     ]
    },
    {
     "name": "stdout",
     "output_type": "stream",
     "text": [
      "Epoch 1/30\n",
      "5846/5846 [==============================] - 0s 74us/step - loss: 0.6751 - accuracy: 0.5783\n",
      "Epoch 2/30\n",
      "5846/5846 [==============================] - 0s 58us/step - loss: 0.5159 - accuracy: 0.6606\n",
      "Epoch 3/30\n",
      "5846/5846 [==============================] - 0s 64us/step - loss: 0.3398 - accuracy: 0.9371\n",
      "Epoch 4/30\n",
      "5846/5846 [==============================] - 0s 61us/step - loss: 0.2080 - accuracy: 0.9891\n",
      "Epoch 5/30\n",
      "5846/5846 [==============================] - 0s 59us/step - loss: 0.1168 - accuracy: 0.9967\n",
      "Epoch 6/30\n",
      "5846/5846 [==============================] - 0s 57us/step - loss: 0.0669 - accuracy: 0.9974\n",
      "Epoch 7/30\n",
      "5846/5846 [==============================] - 0s 52us/step - loss: 0.0422 - accuracy: 0.9979\n",
      "Epoch 8/30\n",
      "5846/5846 [==============================] - 0s 52us/step - loss: 0.0292 - accuracy: 0.9979\n",
      "Epoch 9/30\n",
      "5846/5846 [==============================] - 0s 54us/step - loss: 0.0212 - accuracy: 0.9981\n",
      "Epoch 10/30\n",
      "5846/5846 [==============================] - 0s 57us/step - loss: 0.0157 - accuracy: 0.9991\n",
      "Epoch 11/30\n",
      "5846/5846 [==============================] - 0s 61us/step - loss: 0.0122 - accuracy: 0.9998\n",
      "Epoch 12/30\n",
      "5846/5846 [==============================] - 0s 61us/step - loss: 0.0097 - accuracy: 1.0000\n",
      "Epoch 13/30\n",
      "5846/5846 [==============================] - 0s 58us/step - loss: 0.0079 - accuracy: 1.0000\n",
      "Epoch 14/30\n",
      "5846/5846 [==============================] - 0s 62us/step - loss: 0.0065 - accuracy: 1.0000\n",
      "Epoch 15/30\n",
      "5846/5846 [==============================] - 0s 74us/step - loss: 0.0055 - accuracy: 1.0000\n",
      "Epoch 16/30\n",
      "5846/5846 [==============================] - 0s 65us/step - loss: 0.0047 - accuracy: 1.0000\n",
      "Epoch 17/30\n",
      "5846/5846 [==============================] - 0s 56us/step - loss: 0.0040 - accuracy: 1.0000\n",
      "Epoch 18/30\n",
      "5846/5846 [==============================] - 0s 58us/step - loss: 0.0035 - accuracy: 1.0000\n",
      "Epoch 19/30\n",
      "5846/5846 [==============================] - 0s 60us/step - loss: 0.0031 - accuracy: 1.0000\n",
      "Epoch 20/30\n",
      "5846/5846 [==============================] - 0s 62us/step - loss: 0.0027 - accuracy: 1.0000\n",
      "Epoch 21/30\n",
      "5846/5846 [==============================] - 0s 69us/step - loss: 0.0025 - accuracy: 1.0000\n",
      "Epoch 22/30\n",
      "5846/5846 [==============================] - 0s 58us/step - loss: 0.0023 - accuracy: 1.0000\n",
      "Epoch 23/30\n",
      "5846/5846 [==============================] - 0s 54us/step - loss: 0.0021 - accuracy: 1.0000\n",
      "Epoch 24/30\n",
      "5846/5846 [==============================] - 0s 55us/step - loss: 0.0020 - accuracy: 1.0000\n",
      "Epoch 25/30\n",
      "5846/5846 [==============================] - 0s 52us/step - loss: 0.0018 - accuracy: 1.0000\n",
      "Epoch 26/30\n",
      "5846/5846 [==============================] - 0s 67us/step - loss: 0.0017 - accuracy: 1.0000\n",
      "Epoch 27/30\n",
      "5846/5846 [==============================] - 0s 53us/step - loss: 0.0016 - accuracy: 1.0000\n",
      "Epoch 28/30\n",
      "5846/5846 [==============================] - 0s 55us/step - loss: 0.0015 - accuracy: 1.0000\n",
      "Epoch 29/30\n",
      "5846/5846 [==============================] - 0s 56us/step - loss: 0.0014 - accuracy: 1.0000\n",
      "Epoch 30/30\n",
      "5846/5846 [==============================] - 0s 61us/step - loss: 0.0013 - accuracy: 1.0000\n"
     ]
    },
    {
     "data": {
      "text/plain": [
       "<keras.callbacks.callbacks.History at 0x7f4c7c262be0>"
      ]
     },
     "execution_count": 186,
     "metadata": {
      "tags": []
     },
     "output_type": "execute_result"
    }
   ],
   "source": [
    "\n",
    "\n",
    "classifier.fit(X_train,y_train,batch_size=50,nb_epoch=30)"
   ]
  },
  {
   "cell_type": "code",
   "execution_count": 0,
   "metadata": {
    "colab": {},
    "colab_type": "code",
    "id": "tElE0KeAUMtX"
   },
   "outputs": [],
   "source": [
    "from sklearn.metrics import confusion_matrix\n",
    "print(confusion_matrix(y_test,y_pred))\n"
   ]
  },
  {
   "cell_type": "code",
   "execution_count": 0,
   "metadata": {
    "colab": {
     "base_uri": "https://localhost:8080/",
     "height": 34
    },
    "colab_type": "code",
    "id": "vKqtfN7YU3VA",
    "outputId": "125e3834-4d5f-4b6d-9832-f8a4853c3c6d"
   },
   "outputs": [
    {
     "data": {
      "text/plain": [
       "0.4846153846153846"
      ]
     },
     "execution_count": 146,
     "metadata": {
      "tags": []
     },
     "output_type": "execute_result"
    }
   ],
   "source": [
    "\n",
    "from sklearn.metrics import accuracy_score\n",
    "accuracy_score(y_test, y_pred)"
   ]
  },
  {
   "cell_type": "code",
   "execution_count": 0,
   "metadata": {
    "colab": {
     "base_uri": "https://localhost:8080/",
     "height": 173
    },
    "colab_type": "code",
    "id": "I3EtZtUgU754",
    "outputId": "c26e0eaa-5e1d-434b-ecd3-fbceb643aece"
   },
   "outputs": [
    {
     "name": "stdout",
     "output_type": "stream",
     "text": [
      "              precision    recall  f1-score   support\n",
      "\n",
      "           0       1.00      1.00      1.00       437\n",
      "           1       1.00      1.00      1.00       343\n",
      "\n",
      "    accuracy                           1.00       780\n",
      "   macro avg       1.00      1.00      1.00       780\n",
      "weighted avg       1.00      1.00      1.00       780\n",
      "\n"
     ]
    }
   ],
   "source": [
    "from sklearn.metrics import classification_report\n",
    "print(classification_report(y_test, y_pred))"
   ]
  },
  {
   "cell_type": "markdown",
   "metadata": {},
   "source": [
    "# Using Random Forest"
   ]
  },
  {
   "cell_type": "code",
   "execution_count": 18,
   "metadata": {},
   "outputs": [],
   "source": [
    "#parameters for random forest\n",
    "param_grid = { 'n_estimators': [50, 500],\n",
    "    'max_features': ['auto', 'sqrt', 'log2'],\n",
    "    'max_depth' : [4,5,6,7,8],\n",
    "    'criterion' :['gini', 'entropy']}"
   ]
  },
  {
   "cell_type": "code",
   "execution_count": 20,
   "metadata": {},
   "outputs": [
    {
     "data": {
      "text/plain": [
       "GridSearchCV(cv=5, error_score='raise-deprecating',\n",
       "             estimator=RandomForestClassifier(bootstrap=True, class_weight=None,\n",
       "                                              criterion='gini', max_depth=None,\n",
       "                                              max_features='auto',\n",
       "                                              max_leaf_nodes=None,\n",
       "                                              min_impurity_decrease=0.0,\n",
       "                                              min_impurity_split=None,\n",
       "                                              min_samples_leaf=1,\n",
       "                                              min_samples_split=2,\n",
       "                                              min_weight_fraction_leaf=0.0,\n",
       "                                              n_estimators='warn', n_jobs=None,\n",
       "                                              oob_score=False,\n",
       "                                              random_state=None, verbose=0,\n",
       "                                              warm_start=False),\n",
       "             iid='warn', n_jobs=None,\n",
       "             param_grid={'criterion': ['gini', 'entropy'],\n",
       "                         'max_depth': [4, 5, 6, 7, 8],\n",
       "                         'max_features': ['auto', 'sqrt', 'log2'],\n",
       "                         'n_estimators': [50, 500]},\n",
       "             pre_dispatch='2*n_jobs', refit=True, return_train_score=False,\n",
       "             scoring=None, verbose=0)"
      ]
     },
     "execution_count": 20,
     "metadata": {},
     "output_type": "execute_result"
    }
   ],
   "source": [
    "from sklearn.ensemble import RandomForestClassifier\n",
    "from sklearn.model_selection import GridSearchCV\n",
    "rfc = RandomForestClassifier()\n",
    "CV_rfc = GridSearchCV(estimator=rfc, param_grid=param_grid, cv= 5)\n",
    "CV_rfc.fit(X_train, y_train)"
   ]
  },
  {
   "cell_type": "code",
   "execution_count": 21,
   "metadata": {},
   "outputs": [
    {
     "data": {
      "text/plain": [
       "{'criterion': 'gini',\n",
       " 'max_depth': 8,\n",
       " 'max_features': 'auto',\n",
       " 'n_estimators': 50}"
      ]
     },
     "execution_count": 21,
     "metadata": {},
     "output_type": "execute_result"
    }
   ],
   "source": [
    "#best parameters\n",
    "CV_rfc.best_params_"
   ]
  },
  {
   "cell_type": "code",
   "execution_count": 16,
   "metadata": {
    "colab": {
     "base_uri": "https://localhost:8080/",
     "height": 156
    },
    "colab_type": "code",
    "id": "8ZaMnhxmXEMi",
    "outputId": "67a03b46-a033-4314-d281-34902603dd76"
   },
   "outputs": [
    {
     "data": {
      "text/plain": [
       "RandomForestClassifier(bootstrap=True, class_weight=None, criterion='gini',\n",
       "                       max_depth=8, max_features='auto', max_leaf_nodes=None,\n",
       "                       min_impurity_decrease=0.0, min_impurity_split=None,\n",
       "                       min_samples_leaf=1, min_samples_split=2,\n",
       "                       min_weight_fraction_leaf=0.0, n_estimators=50,\n",
       "                       n_jobs=None, oob_score=False, random_state=None,\n",
       "                       verbose=0, warm_start=False)"
      ]
     },
     "execution_count": 16,
     "metadata": {},
     "output_type": "execute_result"
    }
   ],
   "source": [
    "#using random forest with best estimators\n",
    "from sklearn.ensemble import RandomForestClassifier\n",
    "classifier = RandomForestClassifier(criterion='gini',max_depth=8,n_estimators= 50)\n",
    "classifier.fit(X_train, y_train)"
   ]
  },
  {
   "cell_type": "code",
   "execution_count": 17,
   "metadata": {
    "colab": {},
    "colab_type": "code",
    "id": "AsSfcrL3XN1j"
   },
   "outputs": [],
   "source": [
    "y_pred= classifier.predict(X_test)"
   ]
  },
  {
   "cell_type": "code",
   "execution_count": 18,
   "metadata": {
    "colab": {
     "base_uri": "https://localhost:8080/",
     "height": 52
    },
    "colab_type": "code",
    "id": "RgpNGX7uXcNY",
    "outputId": "33f54f22-2099-430c-831d-8282faffe05f"
   },
   "outputs": [
    {
     "name": "stdout",
     "output_type": "stream",
     "text": [
      "[[1142    0]\n",
      " [   0  807]]\n"
     ]
    }
   ],
   "source": [
    "from sklearn.metrics import confusion_matrix\n",
    "print(confusion_matrix(y_test, y_pred))"
   ]
  },
  {
   "cell_type": "code",
   "execution_count": 19,
   "metadata": {
    "colab": {
     "base_uri": "https://localhost:8080/",
     "height": 34
    },
    "colab_type": "code",
    "id": "r3YH-bZqXgMd",
    "outputId": "6f69b07c-a589-48fa-a37d-5061e9a5c263"
   },
   "outputs": [
    {
     "data": {
      "text/plain": [
       "1.0"
      ]
     },
     "execution_count": 19,
     "metadata": {},
     "output_type": "execute_result"
    }
   ],
   "source": [
    "\n",
    "from sklearn.metrics import accuracy_score\n",
    "accuracy_score(y_test, y_pred)"
   ]
  },
  {
   "cell_type": "markdown",
   "metadata": {},
   "source": [
    "# Using XGBoost"
   ]
  },
  {
   "cell_type": "code",
   "execution_count": 44,
   "metadata": {
    "colab": {
     "base_uri": "https://localhost:8080/",
     "height": 139
    },
    "colab_type": "code",
    "id": "pCzLa9YEXnQB",
    "outputId": "3565f229-1396-4c72-e22a-8143fba0a54b"
   },
   "outputs": [
    {
     "data": {
      "text/plain": [
       "XGBClassifier(base_score=0.5, booster=None, colsample_bylevel=1,\n",
       "              colsample_bynode=1, colsample_bytree=1, gamma=0, gpu_id=-1,\n",
       "              importance_type='gain', interaction_constraints=None,\n",
       "              learning_rate=0.300000012, max_delta_step=0, max_depth=6,\n",
       "              min_child_weight=1, missing=nan, monotone_constraints=None,\n",
       "              n_estimators=100, n_jobs=0, num_parallel_tree=1,\n",
       "              objective='binary:logistic', random_state=0, reg_alpha=0,\n",
       "              reg_lambda=1, scale_pos_weight=1, subsample=1, tree_method=None,\n",
       "              validate_parameters=False, verbosity=None)"
      ]
     },
     "execution_count": 44,
     "metadata": {},
     "output_type": "execute_result"
    }
   ],
   "source": [
    "from xgboost import XGBClassifier\n",
    "xgb = XGBClassifier()\n",
    "xgb.fit(X_train, y_train)"
   ]
  },
  {
   "cell_type": "code",
   "execution_count": 45,
   "metadata": {
    "colab": {},
    "colab_type": "code",
    "id": "ASBP50ooXwLb"
   },
   "outputs": [],
   "source": [
    "y_pred_xgb = xgb.predict(X_test)"
   ]
  },
  {
   "cell_type": "code",
   "execution_count": 46,
   "metadata": {
    "colab": {
     "base_uri": "https://localhost:8080/",
     "height": 208
    },
    "colab_type": "code",
    "id": "ag_EWzezX2cD",
    "outputId": "0affaca9-749e-4a01-ed74-813c39456951"
   },
   "outputs": [
    {
     "name": "stdout",
     "output_type": "stream",
     "text": [
      "[[1142    0]\n",
      " [   0  807]]\n",
      "              precision    recall  f1-score   support\n",
      "\n",
      "           0       1.00      1.00      1.00      1142\n",
      "           1       1.00      1.00      1.00       807\n",
      "\n",
      "    accuracy                           1.00      1949\n",
      "   macro avg       1.00      1.00      1.00      1949\n",
      "weighted avg       1.00      1.00      1.00      1949\n",
      "\n"
     ]
    }
   ],
   "source": [
    "from sklearn.metrics import classification_report\n",
    "print(confusion_matrix(y_test, y_pred_xgb))\n",
    "print(classification_report(y_test, y_pred_xgb))"
   ]
  },
  {
   "cell_type": "code",
   "execution_count": 30,
   "metadata": {
    "colab": {
     "base_uri": "https://localhost:8080/",
     "height": 34
    },
    "colab_type": "code",
    "id": "ZRZGHk3oX96J",
    "outputId": "cb934c48-be51-42d9-c19a-d1dfa23a76e3"
   },
   "outputs": [
    {
     "data": {
      "text/plain": [
       "1.0"
      ]
     },
     "execution_count": 30,
     "metadata": {},
     "output_type": "execute_result"
    }
   ],
   "source": [
    "xgb.score(X_test, y_test)"
   ]
  },
  {
   "cell_type": "markdown",
   "metadata": {},
   "source": [
    "# Using KNN"
   ]
  },
  {
   "cell_type": "code",
   "execution_count": 33,
   "metadata": {
    "colab": {},
    "colab_type": "code",
    "id": "GbWQp4jQYG7v"
   },
   "outputs": [],
   "source": [
    "from sklearn.neighbors import KNeighborsClassifier\n",
    "#finding best k value\n",
    "error_rate = []\n",
    "for i in range(1,40):\n",
    " \n",
    " knn = KNeighborsClassifier(n_neighbors=i)\n",
    " knn.fit(X_train,y_train)\n",
    " pred_i = knn.predict(X_test)\n",
    " error_rate.append(np.mean(pred_i != y_test))"
   ]
  },
  {
   "cell_type": "code",
   "execution_count": 34,
   "metadata": {
    "colab": {
     "base_uri": "https://localhost:8080/",
     "height": 34
    },
    "colab_type": "code",
    "id": "u-DhBi2vYMJ_",
    "outputId": "3a36933d-e382-492e-aef7-e838e34443b0"
   },
   "outputs": [
    {
     "data": {
      "text/plain": [
       "Text(0, 0.5, 'Error Rate')"
      ]
     },
     "execution_count": 34,
     "metadata": {},
     "output_type": "execute_result"
    },
    {
     "data": {
      "image/png": "[encoded data removed]",
      "text/plain": [
       "<Figure size 720x432 with 1 Axes>"
      ]
     },
     "metadata": {
      "needs_background": "light"
     },
     "output_type": "display_data"
    }
   ],
   "source": [
    "plt.figure(figsize=(10,6))\n",
    "plt.plot(range(1,40),error_rate,color='blue', linestyle='dashed', marker='o',\n",
    " markerfacecolor='red', markersize=10)\n",
    "plt.title('Error Rate vs. K Value')\n",
    "plt.xlabel('K')\n",
    "plt.ylabel('Error Rate')"
   ]
  },
  {
   "cell_type": "code",
   "execution_count": 38,
   "metadata": {
    "colab": {
     "base_uri": "https://localhost:8080/",
     "height": 69
    },
    "colab_type": "code",
    "id": "QMkm44nBYVfj",
    "outputId": "3ce1e5b6-f11d-4d5a-87ce-e69e15f429d1"
   },
   "outputs": [
    {
     "data": {
      "text/plain": [
       "KNeighborsClassifier(algorithm='auto', leaf_size=30, metric='minkowski',\n",
       "                     metric_params=None, n_jobs=None, n_neighbors=4, p=2,\n",
       "                     weights='uniform')"
      ]
     },
     "execution_count": 38,
     "metadata": {},
     "output_type": "execute_result"
    }
   ],
   "source": [
    "# using knn with k=4\n",
    "knn = KNeighborsClassifier(n_neighbors=4)\n",
    "knn.fit(X_train, y_train)"
   ]
  },
  {
   "cell_type": "code",
   "execution_count": 39,
   "metadata": {
    "colab": {},
    "colab_type": "code",
    "id": "bQ4KfMkFYZyo"
   },
   "outputs": [],
   "source": [
    "y_pred_knn = knn.predict(X_test)"
   ]
  },
  {
   "cell_type": "code",
   "execution_count": 55,
   "metadata": {
    "colab": {
     "base_uri": "https://localhost:8080/",
     "height": 208
    },
    "colab_type": "code",
    "id": "7eGEUSjfZGGG",
    "outputId": "9d11176c-9c85-4e4a-8f57-907d553aeca9",
    "scrolled": true
   },
   "outputs": [
    {
     "name": "stdout",
     "output_type": "stream",
     "text": [
      "[[1098   44]\n",
      " [  16  791]]\n",
      "              precision    recall  f1-score   support\n",
      "\n",
      "           0       0.99      0.96      0.97      1142\n",
      "           1       0.95      0.98      0.96       807\n",
      "\n",
      "    accuracy                           0.97      1949\n",
      "   macro avg       0.97      0.97      0.97      1949\n",
      "weighted avg       0.97      0.97      0.97      1949\n",
      "\n"
     ]
    }
   ],
   "source": [
    "print(confusion_matrix(y_test, y_pred_knn))\n",
    "print(classification_report(y_test, y_pred_knn))"
   ]
  },
  {
   "cell_type": "markdown",
   "metadata": {},
   "source": [
    "# Using SVM"
   ]
  },
  {
   "cell_type": "code",
   "execution_count": 41,
   "metadata": {
    "colab": {
     "base_uri": "https://localhost:8080/",
     "height": 86
    },
    "colab_type": "code",
    "id": "HfNh0xVSZLCj",
    "outputId": "3e2191a6-e173-46be-e12f-424a5b0ce013"
   },
   "outputs": [
    {
     "data": {
      "text/plain": [
       "SVC(C=1.0, cache_size=200, class_weight=None, coef0=0.0,\n",
       "    decision_function_shape='ovr', degree=3, gamma='auto', kernel='rbf',\n",
       "    max_iter=-1, probability=False, random_state=None, shrinking=True,\n",
       "    tol=0.001, verbose=False)"
      ]
     },
     "execution_count": 41,
     "metadata": {},
     "output_type": "execute_result"
    }
   ],
   "source": [
    "from sklearn.svm import SVC\n",
    "svc = SVC(gamma='auto')\n",
    "svc.fit(X_train, y_train)"
   ]
  },
  {
   "cell_type": "code",
   "execution_count": 42,
   "metadata": {
    "colab": {},
    "colab_type": "code",
    "id": "CPDymdofZSRH"
   },
   "outputs": [],
   "source": [
    "y_pred_svc = svc.predict(X_test)"
   ]
  },
  {
   "cell_type": "code",
   "execution_count": 43,
   "metadata": {
    "colab": {
     "base_uri": "https://localhost:8080/",
     "height": 208
    },
    "colab_type": "code",
    "id": "m323lTWXZWWC",
    "outputId": "e7381dc1-0e9b-456f-c39e-703d7b8d9376"
   },
   "outputs": [
    {
     "name": "stdout",
     "output_type": "stream",
     "text": [
      "[[1131   11]\n",
      " [   5  802]]\n",
      "              precision    recall  f1-score   support\n",
      "\n",
      "           0       1.00      0.99      0.99      1142\n",
      "           1       0.99      0.99      0.99       807\n",
      "\n",
      "    accuracy                           0.99      1949\n",
      "   macro avg       0.99      0.99      0.99      1949\n",
      "weighted avg       0.99      0.99      0.99      1949\n",
      "\n"
     ]
    }
   ],
   "source": [
    "print(confusion_matrix(y_test, y_pred_svc))\n",
    "print(classification_report(y_test, y_pred_svc))"
   ]
  },
  {
   "cell_type": "markdown",
   "metadata": {},
   "source": [
    "# Logistic Regression "
   ]
  },
  {
   "cell_type": "code",
   "execution_count": 16,
   "metadata": {},
   "outputs": [
    {
     "name": "stderr",
     "output_type": "stream",
     "text": [
      "C:\\Users\\Hp\\Anaconda3\\lib\\site-packages\\sklearn\\linear_model\\logistic.py:432: FutureWarning: Default solver will be changed to 'lbfgs' in 0.22. Specify a solver to silence this warning.\n",
      "  FutureWarning)\n"
     ]
    },
    {
     "data": {
      "text/plain": [
       "LogisticRegression(C=1.0, class_weight=None, dual=False, fit_intercept=True,\n",
       "                   intercept_scaling=1, l1_ratio=None, max_iter=100,\n",
       "                   multi_class='warn', n_jobs=None, penalty='l2',\n",
       "                   random_state=None, solver='warn', tol=0.0001, verbose=0,\n",
       "                   warm_start=False)"
      ]
     },
     "execution_count": 16,
     "metadata": {},
     "output_type": "execute_result"
    }
   ],
   "source": [
    "from sklearn.linear_model import LogisticRegression\n",
    "cls = LogisticRegression() \n",
    "cls.fit(X_train, y_train) \n"
   ]
  },
  {
   "cell_type": "code",
   "execution_count": 21,
   "metadata": {},
   "outputs": [],
   "source": [
    "y_pred_lg = cls.predict(X_test) "
   ]
  },
  {
   "cell_type": "code",
   "execution_count": 23,
   "metadata": {},
   "outputs": [
    {
     "name": "stdout",
     "output_type": "stream",
     "text": [
      "[[1130   12]\n",
      " [   0  807]]\n",
      "              precision    recall  f1-score   support\n",
      "\n",
      "           0       1.00      0.99      0.99      1142\n",
      "           1       0.99      1.00      0.99       807\n",
      "\n",
      "    accuracy                           0.99      1949\n",
      "   macro avg       0.99      0.99      0.99      1949\n",
      "weighted avg       0.99      0.99      0.99      1949\n",
      "\n"
     ]
    }
   ],
   "source": [
    "from sklearn.metrics import classification_report\n",
    "from sklearn.metrics import confusion_matrix\n",
    "print(confusion_matrix(y_test, y_pred_lg))\n",
    "print(classification_report(y_test, y_pred_lg))"
   ]
  },
  {
   "cell_type": "code",
   "execution_count": 0,
   "metadata": {
    "colab": {},
    "colab_type": "code",
    "id": "5lQ0xafeZbHG"
   },
   "outputs": [],
   "source": [
    "###################################ANN worked best with accuracy 100 with KNN,RF,XGBoost################33\n",
    "#######################################SVM with TN=3 FP=1 with accuracy 99#####################\n",
    "#####################################No need of Hyperparameter tuning as model works well on given parameters#################33\n",
    "#########################RISE AND SHINE##########################33333"
   ]
  }
 ],
 "metadata": {
  "accelerator": "GPU",
  "colab": {
   "collapsed_sections": [],
   "name": "Churn Analysis and prediction using ANN,Ensembling techniques,SVM",
   "provenance": []
  },
  "kernelspec": {
   "display_name": "Python 3",
   "language": "python",
   "name": "python3"
  },
  "language_info": {
   "codemirror_mode": {
    "name": "ipython",
    "version": 3
   },
   "file_extension": ".py",
   "mimetype": "text/x-python",
   "name": "python",
   "nbconvert_exporter": "python",
   "pygments_lexer": "ipython3",
   "version": "3.7.4"
  }
 },
 "nbformat": 4,
 "nbformat_minor": 1
}
